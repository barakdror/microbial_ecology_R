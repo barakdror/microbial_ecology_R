{
 "cells": [
  {
   "cell_type": "code",
   "execution_count": 1,
   "metadata": {},
   "outputs": [],
   "source": [
    "import pandas as pd\n",
    "import numpy as np\n",
    "import seaborn as sns\n",
    "import matplotlib.pyplot as plt"
   ]
  },
  {
   "cell_type": "markdown",
   "metadata": {},
   "source": [
    "# Read BlastX DIAMOND results"
   ]
  },
  {
   "cell_type": "markdown",
   "metadata": {},
   "source": [
    "assembelies were downloaded from different sources then went through:\n",
    "1) Prodigal\n",
    "2) CD-HIT\n",
    "3) DIAMOND (against the antiSMASH AD domains)"
   ]
  },
  {
   "cell_type": "code",
   "execution_count": 99,
   "metadata": {},
   "outputs": [],
   "source": [
    "#Random sampling of ORFS to start with a similar number of ORFs:"
   ]
  },
  {
   "cell_type": "code",
   "execution_count": 400,
   "metadata": {},
   "outputs": [],
   "source": [
    "nrps_soil=pd.read_table(\"C:/Users/barakd/Desktop/metagenomes/soil_AD_random.txt\")\n",
    "nrps_roots=pd.read_table(\"C:/Users/barakd/Desktop/metagenomes/roots_AD_random.txt\")\n",
    "pks_soil=pd.read_table(\"C:/Users/barakd/Desktop/metagenomes/soil_KS_random.txt\")\n",
    "pks_roots=pd.read_table(\"C:/Users/barakd/Desktop/metagenomes/roots_KS_random.txt\")"
   ]
  },
  {
   "cell_type": "code",
   "execution_count": 401,
   "metadata": {},
   "outputs": [],
   "source": [
    "columns=[\"query\", \"accession\", \"query_length\",\"subject_length\",\"alignment_length\",\"query_start\",\"query_end\",\"identity\", \"eval\", \"bitscore\",\"sample\"]\n",
    "pks_roots.columns=columns\n",
    "pks_soil.columns=columns\n",
    "nrps_soil.columns=columns\n",
    "nrps_roots.columns=columns"
   ]
  },
  {
   "cell_type": "code",
   "execution_count": 402,
   "metadata": {},
   "outputs": [],
   "source": [
    "def prepare_diamond(table):\n",
    "    table[\"genes\"]=table[\"accession\"].str[40:]\n",
    "    table[\"accession\"]=table['accession'].map(lambda x: str(x)[:10])\n",
    "    table_flted=table[table[\"alignment_length\"]>60]\n",
    "    table_flted=table_flted[table_flted[\"eval\"]<0.0000000001]\n",
    "    table_flted=table_flted[table_flted[\"query_length\"]>200]\n",
    "    return table_flted"
   ]
  },
  {
   "cell_type": "code",
   "execution_count": 403,
   "metadata": {},
   "outputs": [],
   "source": [
    "soil_nrps_fltd=prepare_diamond(nrps_soil)\n",
    "soil_pks_fltd=prepare_diamond(pks_soil)\n",
    "roots_nrps_fltd=prepare_diamond(nrps_roots)\n",
    "roots_pks_fltd=prepare_diamond(pks_roots)"
   ]
  },
  {
   "cell_type": "code",
   "execution_count": 550,
   "metadata": {},
   "outputs": [
    {
     "data": {
      "text/html": [
       "<div>\n",
       "<style scoped>\n",
       "    .dataframe tbody tr th:only-of-type {\n",
       "        vertical-align: middle;\n",
       "    }\n",
       "\n",
       "    .dataframe tbody tr th {\n",
       "        vertical-align: top;\n",
       "    }\n",
       "\n",
       "    .dataframe thead th {\n",
       "        text-align: right;\n",
       "    }\n",
       "</style>\n",
       "<table border=\"1\" class=\"dataframe\">\n",
       "  <thead>\n",
       "    <tr style=\"text-align: right;\">\n",
       "      <th></th>\n",
       "      <th>query</th>\n",
       "      <th>taxonomy</th>\n",
       "    </tr>\n",
       "  </thead>\n",
       "  <tbody>\n",
       "    <tr>\n",
       "      <th>0</th>\n",
       "      <td>scaffold_330881_c1_1</td>\n",
       "      <td>root;</td>\n",
       "    </tr>\n",
       "    <tr>\n",
       "      <th>1</th>\n",
       "      <td>scaffold_970497_c1_1</td>\n",
       "      <td>root;</td>\n",
       "    </tr>\n",
       "    <tr>\n",
       "      <th>2</th>\n",
       "      <td>Ga0075525_10243375_1</td>\n",
       "      <td>root;</td>\n",
       "    </tr>\n",
       "    <tr>\n",
       "      <th>3</th>\n",
       "      <td>Ga0075529_1092363_1</td>\n",
       "      <td>root;</td>\n",
       "    </tr>\n",
       "    <tr>\n",
       "      <th>4</th>\n",
       "      <td>Ga0075525_10739222_1</td>\n",
       "      <td>root;</td>\n",
       "    </tr>\n",
       "  </tbody>\n",
       "</table>\n",
       "</div>"
      ],
      "text/plain": [
       "                  query taxonomy\n",
       "0  scaffold_330881_c1_1    root;\n",
       "1  scaffold_970497_c1_1    root;\n",
       "2  Ga0075525_10243375_1    root;\n",
       "3   Ga0075529_1092363_1    root;\n",
       "4  Ga0075525_10739222_1    root;"
      ]
     },
     "execution_count": 550,
     "metadata": {},
     "output_type": "execute_result"
    }
   ],
   "source": [
    "megan_soil_nrps.head()"
   ]
  },
  {
   "cell_type": "code",
   "execution_count": 335,
   "metadata": {},
   "outputs": [],
   "source": [
    "#Read the MEGAN of ALL mined NRPS/PKS within soil/roots, and assigne annotations only for the randomly chosen ones:\n",
    "megan_soil_pks=pd.read_table(\"C:/Users/barakd/Desktop/metagenomes/soil_pks_megan.txt\")\n",
    "megan_soil_nrps=pd.read_table(\"C:/Users/barakd/Desktop/metagenomes/soil_nrps_megan.txt\")\n",
    "megan_roots_pks=pd.read_table(\"C:/Users/barakd/Desktop/metagenomes/roots_pks_megan.txt\")\n",
    "megan_roots_nrps=pd.read_table(\"C:/Users/barakd/Desktop/metagenomes/roots_nrps_megan.txt\")"
   ]
  },
  {
   "cell_type": "code",
   "execution_count": 2,
   "metadata": {},
   "outputs": [],
   "source": [
    "def prepare_megan(table):\n",
    "    table.columns=[\"query\", \"taxonomy\"]\n",
    "    table_filter=table[\"taxonomy\"].str.split(pat=';', expand=True)\n",
    "    table_filter[\"query\"]=table[\"query\"]\n",
    "    table_filter.drop([12,13,14], axis=1, inplace=True)\n",
    "    taxonomy_bacteria=table_filter[table_filter[2]==\"Bacteria\"]\n",
    "    #taxonomy_bacteria[3]=taxonomy_bacteria[3].apply(lambda x: \"unknown\" if x == \"\" else x)\n",
    "    taxonomy_bacteria.drop([0,1], axis=1, inplace=True)\n",
    "    return taxonomy_bacteria"
   ]
  },
  {
   "cell_type": "code",
   "execution_count": 382,
   "metadata": {},
   "outputs": [],
   "source": [
    "soil_pks_megan=prepare_megan(megan_soil_pks)\n",
    "soil_nrps_megan=prepare_megan(megan_soil_nrps)\n",
    "roots_pks_megan=prepare_megan(megan_roots_pks)\n",
    "roots_nrps_megan=prepare_megan(megan_roots_nrps)"
   ]
  },
  {
   "cell_type": "code",
   "execution_count": 3,
   "metadata": {},
   "outputs": [],
   "source": [
    "megan_soil=pd.read_table(\"C:/Users/barakd/Desktop/metagenomes/soil_total_random_taxonomy.txt\")\n",
    "megan_roots=pd.read_table(\"C:/Users/barakd/Desktop/metagenomes/roots_total_random_taxonomy.txt\")"
   ]
  },
  {
   "cell_type": "code",
   "execution_count": 4,
   "metadata": {},
   "outputs": [
    {
     "name": "stderr",
     "output_type": "stream",
     "text": [
      "C:\\Users\\barakd\\Anaconda3\\lib\\site-packages\\pandas\\core\\frame.py:4163: SettingWithCopyWarning: \n",
      "A value is trying to be set on a copy of a slice from a DataFrame\n",
      "\n",
      "See the caveats in the documentation: https://pandas.pydata.org/pandas-docs/stable/user_guide/indexing.html#returning-a-view-versus-a-copy\n",
      "  return super().drop(\n"
     ]
    }
   ],
   "source": [
    "soil_tax_total=prepare_megan(megan_soil)"
   ]
  },
  {
   "cell_type": "code",
   "execution_count": 13,
   "metadata": {},
   "outputs": [],
   "source": [
    "soil_tax_total.set_index(\"query\", inplace=True)\n",
    "soil_tax_total=soil_tax_total.iloc[:, : 9]"
   ]
  },
  {
   "cell_type": "code",
   "execution_count": 17,
   "metadata": {},
   "outputs": [
    {
     "name": "stderr",
     "output_type": "stream",
     "text": [
      "C:\\Users\\barakd\\Anaconda3\\lib\\site-packages\\pandas\\core\\frame.py:4163: SettingWithCopyWarning: \n",
      "A value is trying to be set on a copy of a slice from a DataFrame\n",
      "\n",
      "See the caveats in the documentation: https://pandas.pydata.org/pandas-docs/stable/user_guide/indexing.html#returning-a-view-versus-a-copy\n",
      "  return super().drop(\n"
     ]
    }
   ],
   "source": [
    "roots_tax_total=prepare_megan(megan_roots)"
   ]
  },
  {
   "cell_type": "code",
   "execution_count": 18,
   "metadata": {},
   "outputs": [],
   "source": [
    "roots_tax_total.set_index(\"query\", inplace=True)\n",
    "roots_tax_total=roots_tax_total.iloc[:, : 9]"
   ]
  },
  {
   "cell_type": "code",
   "execution_count": 20,
   "metadata": {},
   "outputs": [],
   "source": [
    "roots_tax_total=roots_tax_total.iloc[:, : 7]\n",
    "soil_tax_total=soil_tax_total.iloc[:, : 7]"
   ]
  },
  {
   "cell_type": "code",
   "execution_count": 23,
   "metadata": {},
   "outputs": [
    {
     "data": {
      "text/plain": [
       "Proteobacteria                      1745733\n",
       "                                     923094\n",
       "Terrabacteria group                  712066\n",
       "Acidobacteria                        675752\n",
       "FCB group                            460322\n",
       "PVC group                            225133\n",
       "unclassified Bacteria                 71540\n",
       "Nitrospirae                           25268\n",
       "Nitrospinae/Tectomicrobia group        9873\n",
       "environmental samples <Bacteria>       9099\n",
       "Spirochaetes                           3584\n",
       "Elusimicrobia                          1131\n",
       "Calditrichaeota                         332\n",
       "Balneolaeota                            142\n",
       "Rhodothermaeota                         117\n",
       "Thermotogae <phylum>                     54\n",
       "Thermodesulfobacteria <phylum>           43\n",
       "Aquificae <phylum>                       41\n",
       "Synergistetes                            30\n",
       "Caldiserica                              20\n",
       "Fusobacteria                             19\n",
       "Deferribacteres <phylum>                 11\n",
       "Chrysiogenetes <phylum>                  10\n",
       "Dictyoglomi                               7\n",
       "Name: 3, dtype: int64"
      ]
     },
     "execution_count": 23,
     "metadata": {},
     "output_type": "execute_result"
    }
   ],
   "source": [
    "roots_tax_total[3].value_counts()"
   ]
  },
  {
   "cell_type": "code",
   "execution_count": 25,
   "metadata": {},
   "outputs": [],
   "source": [
    "columns=[\"kingdom\", \"phyla\", \"class\", \"order\",\"family\",\"genus\",\"species\"]\n",
    "soil_tax_total.columns=columns\n",
    "roots_tax_total.columns=columns"
   ]
  },
  {
   "cell_type": "code",
   "execution_count": 31,
   "metadata": {},
   "outputs": [],
   "source": [
    "soil_tax_total[\"class\"].value_counts().to_clipboard()"
   ]
  },
  {
   "cell_type": "code",
   "execution_count": 21,
   "metadata": {},
   "outputs": [],
   "source": [
    "soil_tax_total.to_csv(\"soil_tax_total.csv\")\n",
    "roots_tax_total.to_csv(\"roots_tax_total.csv\")"
   ]
  },
  {
   "cell_type": "markdown",
   "metadata": {},
   "source": [
    "# Merge the random PKS/NRPS hits with the taxonomy annotations:"
   ]
  },
  {
   "cell_type": "code",
   "execution_count": 383,
   "metadata": {},
   "outputs": [
    {
     "name": "stdout",
     "output_type": "stream",
     "text": [
      "(7447, 12)\n",
      "(49279, 18)\n"
     ]
    }
   ],
   "source": [
    "print(roots_nrps_fltd.shape)\n",
    "print(roots_nrps_megan.shape)\n"
   ]
  },
  {
   "cell_type": "code",
   "execution_count": 386,
   "metadata": {},
   "outputs": [],
   "source": [
    "roots_nrps=roots_nrps_fltd.merge(roots_nrps_megan, on=\"query\", how=\"left\")\n",
    "roots_pks=roots_pks_fltd.merge(roots_pks_megan, on=\"query\", how=\"left\")\n",
    "soil_nrps=soil_nrps_fltd.merge(soil_nrps_megan, on=\"query\", how=\"left\")\n",
    "soil_pks=soil_pks_fltd.merge(soil_pks_megan, on=\"query\", how=\"left\")"
   ]
  },
  {
   "cell_type": "code",
   "execution_count": 389,
   "metadata": {},
   "outputs": [],
   "source": [
    "roots_nrps.to_csv(\"roots_nrps_tax.csv\")\n",
    "roots_pks.to_csv(\"roots_pks_tax.csv\")\n",
    "soil_nrps.to_csv(\"soil_nrps_tax.csv\")\n",
    "soil_pks.to_csv(\"soil_pks_tax.csv\")"
   ]
  },
  {
   "cell_type": "markdown",
   "metadata": {},
   "source": [
    "# Diversity Analysis"
   ]
  },
  {
   "cell_type": "code",
   "execution_count": 26,
   "metadata": {},
   "outputs": [],
   "source": [
    "#Turn the hit table into a binary biom table based on accessions:"
   ]
  },
  {
   "cell_type": "code",
   "execution_count": 112,
   "metadata": {
    "scrolled": true
   },
   "outputs": [
    {
     "data": {
      "text/plain": [
       "sample\n",
       "Amatitan_AD          737\n",
       "MGS_AD               450\n",
       "San_Felipe_AD        934\n",
       "arctic_AD            389\n",
       "chronofire_AD       1183\n",
       "desert_AD            791\n",
       "florida_lox_AD       434\n",
       "iowa_prairie_AD      128\n",
       "purdue_AD            342\n",
       "subdeep_AD           448\n",
       "tropical_peat_AD     364\n",
       "Name: query, dtype: int64"
      ]
     },
     "execution_count": 112,
     "metadata": {},
     "output_type": "execute_result"
    }
   ],
   "source": [
    "#groupbysample=roots_fltd.groupby(\"sample\").nunique()\n",
    "#groupbysample[\"query\"]\n",
    "groupbysample=soil_flted.groupby(\"sample\").nunique()\n",
    "groupbysample[\"query\"]"
   ]
  },
  {
   "cell_type": "markdown",
   "metadata": {},
   "source": [
    "Merge together the roots and soil results to create one biome table:\n",
    " "
   ]
  },
  {
   "cell_type": "code",
   "execution_count": 406,
   "metadata": {},
   "outputs": [],
   "source": [
    "joined_pks=pd.concat([soil_pks_fltd, roots_pks_fltd])\n",
    "joined_nrps=pd.concat([soil_nrps_fltd, roots_nrps_fltd])"
   ]
  },
  {
   "cell_type": "code",
   "execution_count": 407,
   "metadata": {
    "scrolled": true
   },
   "outputs": [
    {
     "data": {
      "text/plain": [
       "sample\n",
       "Agave_orfs_random.fasta_AD           494\n",
       "Amatitan_AD                          737\n",
       "MGS_AD                               450\n",
       "SM_exotic_orfs_random.fasta_AD       310\n",
       "SM_native_orfs_random.fasta_AD       285\n",
       "San_Felipe_AD                        934\n",
       "arabidopsis_orfs_random.fasta_AD     948\n",
       "arctic_AD                            389\n",
       "carex_orfs_random.fasta_AD           278\n",
       "chronofire_AD                       1183\n",
       "cucumber_orfs_random.fasta_AD        423\n",
       "desert_AD                            791\n",
       "florida_lox_AD                       434\n",
       "iowa_corn_orfs_random.fasta_AD       101\n",
       "iowa_prairie_AD                      128\n",
       "lettuce_orfs_random.fasta_AD         803\n",
       "miscanthus_orfs_random.fasta_AD      114\n",
       "paramo_orfs_random.fasta_AD          213\n",
       "populus_orfs_random.fasta_AD         591\n",
       "potato_orfs_random.fasta_AD          240\n",
       "purdue_AD                            342\n",
       "subdeep_AD                           448\n",
       "switchgrass_orfs_random.fasta_AD     130\n",
       "tomato_orfs_random.fasta_AD         1112\n",
       "tropical_peat_AD                     364\n",
       "vellozia_orfs_random.fasta_AD        698\n",
       "wheat_orfs_random.fasta_AD           707\n",
       "Name: query, dtype: int64"
      ]
     },
     "execution_count": 407,
     "metadata": {},
     "output_type": "execute_result"
    }
   ],
   "source": [
    "groupbysample=joined_nrps.groupby(\"sample\").nunique()\n",
    "groupbysample[\"query\"]"
   ]
  },
  {
   "cell_type": "code",
   "execution_count": 408,
   "metadata": {},
   "outputs": [],
   "source": [
    "def create_biom(df):\n",
    "    df_grouped=df.groupby([\"sample\",\"accession\"]).size().reset_index()\n",
    "    df_grouped.columns=[\"sample\", \"accession\", \"hits\"]\n",
    "    biom=df_grouped.set_index(['sample', 'accession'])['hits'].unstack().reset_index().fillna(0)\n",
    "    biom.set_index(\"sample\", inplace=True)\n",
    "    biom_binary=biom.apply(lambda x: [0 if y<1 else 1 for y in x])\n",
    "    return biom_binary"
   ]
  },
  {
   "cell_type": "code",
   "execution_count": 142,
   "metadata": {},
   "outputs": [],
   "source": [
    "#roots_grouped=roots_fltd.groupby([\"sample\",\"accession\"]).size().reset_index()\n",
    "#roots_grouped.columns=[\"sample\", \"accession\", \"hits\"]\n",
    "#biom_roots=roots_grouped.set_index(['sample', 'accession'])['hits'].unstack().reset_index().fillna(0)\n",
    "#biom_roots.set_index(\"sample\", inplace=True)"
   ]
  },
  {
   "cell_type": "code",
   "execution_count": 442,
   "metadata": {},
   "outputs": [],
   "source": [
    "biom_nrps=create_biom(joined_nrps)\n",
    "biom_pks=create_biom(joined_pks)"
   ]
  },
  {
   "cell_type": "markdown",
   "metadata": {},
   "source": [
    "## Common and unique Genes- soil vs. roots (genes level) "
   ]
  },
  {
   "cell_type": "code",
   "execution_count": 444,
   "metadata": {},
   "outputs": [],
   "source": [
    "nrpsT=biom_nrps.T\n",
    "nrpsT[\"sum\"]=nrpsT.sum(axis=1)\n",
    "nrpsT=nrpsT[nrpsT[\"sum\"]>2]\n",
    "nrpsT.drop(\"sum\", axis=1, inplace=True)"
   ]
  },
  {
   "cell_type": "code",
   "execution_count": 455,
   "metadata": {},
   "outputs": [],
   "source": [
    "nrpsT=nrpsT.T.reset_index()\n",
    "nrpsT[\"env\"]=\"roots\""
   ]
  },
  {
   "cell_type": "code",
   "execution_count": 460,
   "metadata": {},
   "outputs": [],
   "source": [
    "nrpsT.to_csv(\"nrps_genes_over3.csv\")"
   ]
  },
  {
   "cell_type": "code",
   "execution_count": 461,
   "metadata": {},
   "outputs": [],
   "source": [
    "nrpsT=pd.read_csv(\"C:/Users/barakd/Desktop/metagenomes/nrps_genes_over3.csv\")\n"
   ]
  },
  {
   "cell_type": "code",
   "execution_count": 462,
   "metadata": {},
   "outputs": [],
   "source": [
    "nrps_genes_by_cat=nrpsT.groupby(\"env\").sum().T"
   ]
  },
  {
   "cell_type": "code",
   "execution_count": 504,
   "metadata": {},
   "outputs": [],
   "source": [
    "nrps_over_roots=nrps_genes_by_cat.loc[(nrps_genes_by_cat['roots'] >6) & (nrps_genes_by_cat['soil'] <4)]\n",
    "nrps_over_soil=nrps_genes_by_cat.loc[(nrps_genes_by_cat['roots'] <4) & (nrps_genes_by_cat['soil'] >5)]\n",
    "#nrps_over_roots.to_csv(\"nrps_over_roots_genes.csv\")\n",
    "#nrps_over_soil.to_csv(\"nrps_over_soil_genes.csv\")"
   ]
  },
  {
   "cell_type": "code",
   "execution_count": 523,
   "metadata": {},
   "outputs": [],
   "source": [
    "#nrps_over_roots.reset_index(inplace=True)\n",
    "nrps_over_soil.reset_index(inplace=True)\n",
    "nrps_over_soil.columns=[\"accession\", \"roots\", \"soil\"]\n",
    "nrps_over_soil_full=nrps_over_soil.merge(joined_nrps, on=\"accession\", how=\"left\")\n",
    "nrps_over_soil_full.merge(soil_fltd, on=\"query\", how=\"inner\").to_csv(\"nrps_over_soil_with_mibig.csv\")"
   ]
  },
  {
   "cell_type": "code",
   "execution_count": 524,
   "metadata": {},
   "outputs": [],
   "source": [
    "#nrps_over_roots.columns=[\"accession\", \"roots\", \"soil\"]\n",
    "nrps_over_soil.columns=[\"accession\", \"roots\", \"soil\"]"
   ]
  },
  {
   "cell_type": "code",
   "execution_count": 525,
   "metadata": {
    "scrolled": true
   },
   "outputs": [],
   "source": [
    "#nrps_over_roots_full=nrps_over_roots.merge(joined_nrps, on=\"accession\", how=\"left\")\n",
    "nrps_over_soil_full=nrps_over_soil.merge(joined_nrps, on=\"accession\", how=\"left\")"
   ]
  },
  {
   "cell_type": "code",
   "execution_count": 526,
   "metadata": {},
   "outputs": [],
   "source": [
    "#nrps_over_roots_full.merge(roots_fltd, on=\"query\", how=\"inner\").to_csv(\"nrps_over_roots_with_mibig.csv\")\n",
    "nrps_over_soil_full.merge(soil_fltd, on=\"query\", how=\"inner\").to_csv(\"nrps_over_soil_with_mibig.csv\")"
   ]
  },
  {
   "cell_type": "code",
   "execution_count": 548,
   "metadata": {},
   "outputs": [],
   "source": [
    "nrps_over_roots_full.to_csv(\"nrps_over_roots_genes_full.csv\")\n",
    "nrps_over_soil_full.to_csv(\"nrps_over_soil_genes_full.csv\")"
   ]
  },
  {
   "cell_type": "markdown",
   "metadata": {},
   "source": [
    "## do the same for PKS:"
   ]
  },
  {
   "cell_type": "code",
   "execution_count": 476,
   "metadata": {},
   "outputs": [],
   "source": [
    "pksT=biom_pks.T\n",
    "pksT[\"sum\"]=pksT.sum(axis=1)\n",
    "pksT=pksT[pksT[\"sum\"]>2]\n",
    "pksT.drop(\"sum\", axis=1, inplace=True)"
   ]
  },
  {
   "cell_type": "code",
   "execution_count": 477,
   "metadata": {},
   "outputs": [],
   "source": [
    "pksT=pksT.T.reset_index()\n",
    "pksT[\"env\"]=\"roots\"\n",
    "pksT.to_csv(\"pks_genes_over3.csv\")"
   ]
  },
  {
   "cell_type": "code",
   "execution_count": 482,
   "metadata": {},
   "outputs": [],
   "source": [
    "pksT=pd.read_csv(\"C:/Users/barakd/Desktop/metagenomes/pks_genes_over3.csv\")\n",
    "pks_genes_by_cat=pksT.groupby(\"env\").sum().T"
   ]
  },
  {
   "cell_type": "code",
   "execution_count": 489,
   "metadata": {},
   "outputs": [],
   "source": [
    "pks_over_roots=pks_genes_by_cat.loc[(pks_genes_by_cat['roots'] >5) & (pks_genes_by_cat['soil'] <4)]\n",
    "pks_over_soil=pks_genes_by_cat.loc[(pks_genes_by_cat['roots'] <5) & (pks_genes_by_cat['soil'] >5)]\n",
    "pks_over_roots.to_csv(\"pks_over_roots_genes.csv\")\n",
    "pks_over_soil.to_csv(\"pks_over_soil_genes.csv\")"
   ]
  },
  {
   "cell_type": "code",
   "execution_count": 528,
   "metadata": {},
   "outputs": [],
   "source": [
    "pks_over_roots.reset_index(inplace=True)\n",
    "pks_over_soil.reset_index(inplace=True)\n",
    "\n",
    "pks_over_roots.columns=[\"accession\", \"roots\", \"soil\"]\n",
    "pks_over_soil.columns=[\"accession\", \"roots\", \"soil\"]"
   ]
  },
  {
   "cell_type": "code",
   "execution_count": 536,
   "metadata": {},
   "outputs": [],
   "source": [
    "pks_over_roots_full=pks_over_roots.merge(joined_pks, on=\"accession\", how=\"left\")\n",
    "pks_over_soil_full=pks_over_soil.merge(joined_pks, on=\"accession\", how=\"left\")\n"
   ]
  },
  {
   "cell_type": "code",
   "execution_count": 547,
   "metadata": {},
   "outputs": [],
   "source": [
    "pks_over_soil_full.to_csv(\"pks_over_soil_genes_full.csv\")\n",
    "pks_over_roots_full.to_csv(\"pks_over_roots_genes_full.csv\")"
   ]
  },
  {
   "cell_type": "code",
   "execution_count": 537,
   "metadata": {},
   "outputs": [],
   "source": [
    "pks_over_soil_full.merge(soil_fltd, on=\"query\", how=\"inner\").to_csv(\"pks_over_soil_with_mibig.csv\")\n",
    "pks_over_roots_full.merge(roots_fltd, on=\"query\", how=\"inner\").to_csv(\"pks_over_roots_with_mibig.csv\")"
   ]
  },
  {
   "cell_type": "markdown",
   "metadata": {},
   "source": [
    "# MIBiG analyses (function-based)"
   ]
  },
  {
   "cell_type": "markdown",
   "metadata": {},
   "source": [
    "Import the mibig diamond results of the randomly chosen ORFs for soil and roots:"
   ]
  },
  {
   "cell_type": "code",
   "execution_count": 543,
   "metadata": {
    "scrolled": true
   },
   "outputs": [],
   "source": [
    "mibig_roots=pd.read_table(\"C:/Users/barakd/Desktop/metagenomes/roots_mibig_results.txt\")\n",
    "mibig_soil=pd.read_table(\"C:/Users/barakd/Desktop/metagenomes/soil_mibig_results.txt\")"
   ]
  },
  {
   "cell_type": "code",
   "execution_count": 544,
   "metadata": {},
   "outputs": [],
   "source": [
    "columns=[\"query\", \"accession\", \"query_length\",\"subject_length\",\"alignment_length\",\"query_start\",\"query_end\",\"identity\", \"eval\", \"bitscore\",\"sample\"]\n",
    "mibig_roots.columns=columns\n",
    "mibig_soil.columns=columns"
   ]
  },
  {
   "cell_type": "code",
   "execution_count": 545,
   "metadata": {},
   "outputs": [],
   "source": [
    "#filter by alignment length:\n",
    "mibig_roots_fltd=mibig_roots[mibig_roots[\"alignment_length\"]>60]\n",
    "mibig_soil_fltd=mibig_soil[mibig_soil[\"alignment_length\"]>60]\n",
    "\n",
    "#filter by evalue:\n",
    "mibig_roots_fltd=mibig_roots_fltd[mibig_roots_fltd[\"eval\"]<1e-30]\n",
    "mibig_soil_fltd=mibig_soil_fltd[mibig_soil_fltd[\"eval\"]<1e-30]"
   ]
  },
  {
   "cell_type": "code",
   "execution_count": 546,
   "metadata": {},
   "outputs": [
    {
     "data": {
      "text/plain": [
       "(783, 11)"
      ]
     },
     "execution_count": 546,
     "metadata": {},
     "output_type": "execute_result"
    }
   ],
   "source": [
    "mibig_roots_fltd.shape\n",
    "mibig_soil_fltd.shape"
   ]
  },
  {
   "cell_type": "code",
   "execution_count": 293,
   "metadata": {},
   "outputs": [],
   "source": [
    "#read the mibig products key:\n",
    "mibig_key=pd.read_excel(\"C:/Users/barakd/Desktop/mibig_key.xlsx\")"
   ]
  },
  {
   "cell_type": "code",
   "execution_count": 294,
   "metadata": {},
   "outputs": [],
   "source": [
    "mibig_roots[\"accession\"]=mibig_roots[\"accession\"].str[:10]\n",
    "mibig_soil[\"accession\"]=mibig_soil[\"accession\"].str[:10]"
   ]
  },
  {
   "cell_type": "code",
   "execution_count": 295,
   "metadata": {},
   "outputs": [],
   "source": [
    "#merge the MIBIG key with the soil and roots contigs results (diamond to the mibig core):\n",
    "roots_fltd=mibig_roots.merge(mibig_key,how=\"left\", on=\"accession\")\n",
    "soil_fltd=mibig_soil.merge(mibig_key,how=\"left\", on=\"accession\")"
   ]
  },
  {
   "cell_type": "code",
   "execution_count": 222,
   "metadata": {},
   "outputs": [],
   "source": [
    "roots_fltd.to_csv(\"mibig_roots_activity.csv\")\n",
    "soil_fltd.to_csv(\"mibig_soil_activity.csv\")"
   ]
  },
  {
   "cell_type": "code",
   "execution_count": 296,
   "metadata": {},
   "outputs": [
    {
     "data": {
      "text/html": [
       "<div>\n",
       "<style scoped>\n",
       "    .dataframe tbody tr th:only-of-type {\n",
       "        vertical-align: middle;\n",
       "    }\n",
       "\n",
       "    .dataframe tbody tr th {\n",
       "        vertical-align: top;\n",
       "    }\n",
       "\n",
       "    .dataframe thead th {\n",
       "        text-align: right;\n",
       "    }\n",
       "</style>\n",
       "<table border=\"1\" class=\"dataframe\">\n",
       "  <thead>\n",
       "    <tr style=\"text-align: right;\">\n",
       "      <th></th>\n",
       "      <th>query</th>\n",
       "      <th>accession</th>\n",
       "      <th>query_length</th>\n",
       "      <th>subject_length</th>\n",
       "      <th>alignment_length</th>\n",
       "      <th>query_start</th>\n",
       "      <th>query_end</th>\n",
       "      <th>identity</th>\n",
       "      <th>eval</th>\n",
       "      <th>bitscore</th>\n",
       "      <th>sample</th>\n",
       "      <th>product</th>\n",
       "      <th>bgc_class</th>\n",
       "    </tr>\n",
       "    <tr>\n",
       "      <th>activity</th>\n",
       "      <th></th>\n",
       "      <th></th>\n",
       "      <th></th>\n",
       "      <th></th>\n",
       "      <th></th>\n",
       "      <th></th>\n",
       "      <th></th>\n",
       "      <th></th>\n",
       "      <th></th>\n",
       "      <th></th>\n",
       "      <th></th>\n",
       "      <th></th>\n",
       "      <th></th>\n",
       "    </tr>\n",
       "  </thead>\n",
       "  <tbody>\n",
       "    <tr>\n",
       "      <th>NAP</th>\n",
       "      <td>36.500</td>\n",
       "      <td>8.375</td>\n",
       "      <td>20.000</td>\n",
       "      <td>16.500</td>\n",
       "      <td>18.500</td>\n",
       "      <td>3.000</td>\n",
       "      <td>19.125</td>\n",
       "      <td>19.000</td>\n",
       "      <td>34.125</td>\n",
       "      <td>27.625</td>\n",
       "      <td>1.375</td>\n",
       "      <td>7.750</td>\n",
       "      <td>0.750</td>\n",
       "    </tr>\n",
       "    <tr>\n",
       "      <th>antiameobe</th>\n",
       "      <td>0.125</td>\n",
       "      <td>0.125</td>\n",
       "      <td>0.125</td>\n",
       "      <td>0.125</td>\n",
       "      <td>0.125</td>\n",
       "      <td>0.125</td>\n",
       "      <td>0.125</td>\n",
       "      <td>0.125</td>\n",
       "      <td>0.125</td>\n",
       "      <td>0.125</td>\n",
       "      <td>0.125</td>\n",
       "      <td>0.125</td>\n",
       "      <td>0.125</td>\n",
       "    </tr>\n",
       "    <tr>\n",
       "      <th>antimicrobial</th>\n",
       "      <td>31.875</td>\n",
       "      <td>8.875</td>\n",
       "      <td>14.250</td>\n",
       "      <td>15.875</td>\n",
       "      <td>14.750</td>\n",
       "      <td>1.750</td>\n",
       "      <td>14.125</td>\n",
       "      <td>15.750</td>\n",
       "      <td>30.375</td>\n",
       "      <td>23.125</td>\n",
       "      <td>1.375</td>\n",
       "      <td>8.625</td>\n",
       "      <td>1.125</td>\n",
       "    </tr>\n",
       "    <tr>\n",
       "      <th>insecticidal</th>\n",
       "      <td>2.000</td>\n",
       "      <td>0.625</td>\n",
       "      <td>2.000</td>\n",
       "      <td>1.125</td>\n",
       "      <td>1.750</td>\n",
       "      <td>0.500</td>\n",
       "      <td>1.875</td>\n",
       "      <td>1.750</td>\n",
       "      <td>2.000</td>\n",
       "      <td>2.000</td>\n",
       "      <td>1.000</td>\n",
       "      <td>0.500</td>\n",
       "      <td>0.250</td>\n",
       "    </tr>\n",
       "    <tr>\n",
       "      <th>other</th>\n",
       "      <td>5.125</td>\n",
       "      <td>1.250</td>\n",
       "      <td>4.000</td>\n",
       "      <td>2.375</td>\n",
       "      <td>4.000</td>\n",
       "      <td>0.875</td>\n",
       "      <td>4.125</td>\n",
       "      <td>4.625</td>\n",
       "      <td>4.875</td>\n",
       "      <td>4.625</td>\n",
       "      <td>0.875</td>\n",
       "      <td>1.250</td>\n",
       "      <td>0.375</td>\n",
       "    </tr>\n",
       "    <tr>\n",
       "      <th>siderophore</th>\n",
       "      <td>7.875</td>\n",
       "      <td>1.250</td>\n",
       "      <td>6.500</td>\n",
       "      <td>1.750</td>\n",
       "      <td>6.375</td>\n",
       "      <td>0.750</td>\n",
       "      <td>6.875</td>\n",
       "      <td>7.375</td>\n",
       "      <td>7.875</td>\n",
       "      <td>7.625</td>\n",
       "      <td>1.000</td>\n",
       "      <td>1.250</td>\n",
       "      <td>0.125</td>\n",
       "    </tr>\n",
       "    <tr>\n",
       "      <th>surfactant</th>\n",
       "      <td>0.125</td>\n",
       "      <td>0.125</td>\n",
       "      <td>0.125</td>\n",
       "      <td>0.125</td>\n",
       "      <td>0.125</td>\n",
       "      <td>0.125</td>\n",
       "      <td>0.125</td>\n",
       "      <td>0.125</td>\n",
       "      <td>0.125</td>\n",
       "      <td>0.125</td>\n",
       "      <td>0.125</td>\n",
       "      <td>0.125</td>\n",
       "      <td>0.125</td>\n",
       "    </tr>\n",
       "    <tr>\n",
       "      <th>toxin</th>\n",
       "      <td>1.500</td>\n",
       "      <td>0.125</td>\n",
       "      <td>1.500</td>\n",
       "      <td>0.125</td>\n",
       "      <td>1.500</td>\n",
       "      <td>0.375</td>\n",
       "      <td>1.500</td>\n",
       "      <td>1.500</td>\n",
       "      <td>1.500</td>\n",
       "      <td>1.500</td>\n",
       "      <td>0.875</td>\n",
       "      <td>0.125</td>\n",
       "      <td>0.125</td>\n",
       "    </tr>\n",
       "    <tr>\n",
       "      <th>unknown</th>\n",
       "      <td>5.250</td>\n",
       "      <td>1.625</td>\n",
       "      <td>3.875</td>\n",
       "      <td>2.375</td>\n",
       "      <td>3.875</td>\n",
       "      <td>1.125</td>\n",
       "      <td>4.125</td>\n",
       "      <td>4.625</td>\n",
       "      <td>5.250</td>\n",
       "      <td>4.875</td>\n",
       "      <td>1.250</td>\n",
       "      <td>1.625</td>\n",
       "      <td>0.500</td>\n",
       "    </tr>\n",
       "  </tbody>\n",
       "</table>\n",
       "</div>"
      ],
      "text/plain": [
       "                query  accession  query_length  subject_length  \\\n",
       "activity                                                         \n",
       "NAP            36.500      8.375        20.000          16.500   \n",
       "antiameobe      0.125      0.125         0.125           0.125   \n",
       "antimicrobial  31.875      8.875        14.250          15.875   \n",
       "insecticidal    2.000      0.625         2.000           1.125   \n",
       "other           5.125      1.250         4.000           2.375   \n",
       "siderophore     7.875      1.250         6.500           1.750   \n",
       "surfactant      0.125      0.125         0.125           0.125   \n",
       "toxin           1.500      0.125         1.500           0.125   \n",
       "unknown         5.250      1.625         3.875           2.375   \n",
       "\n",
       "               alignment_length  query_start  query_end  identity    eval  \\\n",
       "activity                                                                    \n",
       "NAP                      18.500        3.000     19.125    19.000  34.125   \n",
       "antiameobe                0.125        0.125      0.125     0.125   0.125   \n",
       "antimicrobial            14.750        1.750     14.125    15.750  30.375   \n",
       "insecticidal              1.750        0.500      1.875     1.750   2.000   \n",
       "other                     4.000        0.875      4.125     4.625   4.875   \n",
       "siderophore               6.375        0.750      6.875     7.375   7.875   \n",
       "surfactant                0.125        0.125      0.125     0.125   0.125   \n",
       "toxin                     1.500        0.375      1.500     1.500   1.500   \n",
       "unknown                   3.875        1.125      4.125     4.625   5.250   \n",
       "\n",
       "               bitscore  sample  product  bgc_class  \n",
       "activity                                             \n",
       "NAP              27.625   1.375    7.750      0.750  \n",
       "antiameobe        0.125   0.125    0.125      0.125  \n",
       "antimicrobial    23.125   1.375    8.625      1.125  \n",
       "insecticidal      2.000   1.000    0.500      0.250  \n",
       "other             4.625   0.875    1.250      0.375  \n",
       "siderophore       7.625   1.000    1.250      0.125  \n",
       "surfactant        0.125   0.125    0.125      0.125  \n",
       "toxin             1.500   0.875    0.125      0.125  \n",
       "unknown           4.875   1.250    1.625      0.500  "
      ]
     },
     "execution_count": 296,
     "metadata": {},
     "output_type": "execute_result"
    }
   ],
   "source": [
    "roots_fltd.groupby(\"activity\").nunique()/800*100"
   ]
  },
  {
   "cell_type": "code",
   "execution_count": 297,
   "metadata": {},
   "outputs": [
    {
     "data": {
      "text/html": [
       "<div>\n",
       "<style scoped>\n",
       "    .dataframe tbody tr th:only-of-type {\n",
       "        vertical-align: middle;\n",
       "    }\n",
       "\n",
       "    .dataframe tbody tr th {\n",
       "        vertical-align: top;\n",
       "    }\n",
       "\n",
       "    .dataframe thead th {\n",
       "        text-align: right;\n",
       "    }\n",
       "</style>\n",
       "<table border=\"1\" class=\"dataframe\">\n",
       "  <thead>\n",
       "    <tr style=\"text-align: right;\">\n",
       "      <th></th>\n",
       "      <th>query</th>\n",
       "      <th>accession</th>\n",
       "      <th>query_length</th>\n",
       "      <th>subject_length</th>\n",
       "      <th>alignment_length</th>\n",
       "      <th>query_start</th>\n",
       "      <th>query_end</th>\n",
       "      <th>identity</th>\n",
       "      <th>eval</th>\n",
       "      <th>bitscore</th>\n",
       "      <th>sample</th>\n",
       "      <th>product</th>\n",
       "      <th>bgc_class</th>\n",
       "    </tr>\n",
       "    <tr>\n",
       "      <th>activity</th>\n",
       "      <th></th>\n",
       "      <th></th>\n",
       "      <th></th>\n",
       "      <th></th>\n",
       "      <th></th>\n",
       "      <th></th>\n",
       "      <th></th>\n",
       "      <th></th>\n",
       "      <th></th>\n",
       "      <th></th>\n",
       "      <th></th>\n",
       "      <th></th>\n",
       "      <th></th>\n",
       "    </tr>\n",
       "  </thead>\n",
       "  <tbody>\n",
       "    <tr>\n",
       "      <th>0</th>\n",
       "      <td>0.766284</td>\n",
       "      <td>0.510856</td>\n",
       "      <td>0.766284</td>\n",
       "      <td>0.510856</td>\n",
       "      <td>0.766284</td>\n",
       "      <td>0.255428</td>\n",
       "      <td>0.766284</td>\n",
       "      <td>0.766284</td>\n",
       "      <td>0.766284</td>\n",
       "      <td>0.766284</td>\n",
       "      <td>0.383142</td>\n",
       "      <td>0.510856</td>\n",
       "      <td>0.255428</td>\n",
       "    </tr>\n",
       "    <tr>\n",
       "      <th>NAP</th>\n",
       "      <td>23.243934</td>\n",
       "      <td>8.556833</td>\n",
       "      <td>10.600255</td>\n",
       "      <td>12.899106</td>\n",
       "      <td>10.472542</td>\n",
       "      <td>2.043423</td>\n",
       "      <td>11.238825</td>\n",
       "      <td>10.983397</td>\n",
       "      <td>22.477650</td>\n",
       "      <td>17.496807</td>\n",
       "      <td>1.277139</td>\n",
       "      <td>7.790549</td>\n",
       "      <td>0.638570</td>\n",
       "    </tr>\n",
       "    <tr>\n",
       "      <th>aniother</th>\n",
       "      <td>0.510856</td>\n",
       "      <td>0.127714</td>\n",
       "      <td>0.510856</td>\n",
       "      <td>0.255428</td>\n",
       "      <td>0.510856</td>\n",
       "      <td>0.127714</td>\n",
       "      <td>0.510856</td>\n",
       "      <td>0.510856</td>\n",
       "      <td>0.510856</td>\n",
       "      <td>0.510856</td>\n",
       "      <td>0.383142</td>\n",
       "      <td>0.127714</td>\n",
       "      <td>0.127714</td>\n",
       "    </tr>\n",
       "    <tr>\n",
       "      <th>antiameobe</th>\n",
       "      <td>0.127714</td>\n",
       "      <td>0.127714</td>\n",
       "      <td>0.127714</td>\n",
       "      <td>0.127714</td>\n",
       "      <td>0.127714</td>\n",
       "      <td>0.127714</td>\n",
       "      <td>0.127714</td>\n",
       "      <td>0.127714</td>\n",
       "      <td>0.127714</td>\n",
       "      <td>0.127714</td>\n",
       "      <td>0.127714</td>\n",
       "      <td>0.127714</td>\n",
       "      <td>0.127714</td>\n",
       "    </tr>\n",
       "    <tr>\n",
       "      <th>antimicrobial</th>\n",
       "      <td>25.542784</td>\n",
       "      <td>7.279693</td>\n",
       "      <td>11.366539</td>\n",
       "      <td>13.026820</td>\n",
       "      <td>11.749681</td>\n",
       "      <td>2.043423</td>\n",
       "      <td>11.749681</td>\n",
       "      <td>12.643678</td>\n",
       "      <td>24.137931</td>\n",
       "      <td>18.901660</td>\n",
       "      <td>1.277139</td>\n",
       "      <td>7.151980</td>\n",
       "      <td>0.893997</td>\n",
       "    </tr>\n",
       "    <tr>\n",
       "      <th>insecticidal</th>\n",
       "      <td>1.532567</td>\n",
       "      <td>0.510856</td>\n",
       "      <td>1.404853</td>\n",
       "      <td>1.149425</td>\n",
       "      <td>1.532567</td>\n",
       "      <td>0.766284</td>\n",
       "      <td>1.404853</td>\n",
       "      <td>1.404853</td>\n",
       "      <td>1.532567</td>\n",
       "      <td>1.532567</td>\n",
       "      <td>0.510856</td>\n",
       "      <td>0.383142</td>\n",
       "      <td>0.255428</td>\n",
       "    </tr>\n",
       "    <tr>\n",
       "      <th>other</th>\n",
       "      <td>23.243934</td>\n",
       "      <td>1.404853</td>\n",
       "      <td>17.752235</td>\n",
       "      <td>2.298851</td>\n",
       "      <td>17.496807</td>\n",
       "      <td>1.404853</td>\n",
       "      <td>17.879949</td>\n",
       "      <td>14.687101</td>\n",
       "      <td>22.733078</td>\n",
       "      <td>21.711367</td>\n",
       "      <td>1.277139</td>\n",
       "      <td>1.404853</td>\n",
       "      <td>0.383142</td>\n",
       "    </tr>\n",
       "    <tr>\n",
       "      <th>siderophore</th>\n",
       "      <td>2.171137</td>\n",
       "      <td>0.766284</td>\n",
       "      <td>2.043423</td>\n",
       "      <td>0.766284</td>\n",
       "      <td>1.915709</td>\n",
       "      <td>0.383142</td>\n",
       "      <td>1.915709</td>\n",
       "      <td>2.043423</td>\n",
       "      <td>2.171137</td>\n",
       "      <td>2.171137</td>\n",
       "      <td>0.766284</td>\n",
       "      <td>0.766284</td>\n",
       "      <td>0.255428</td>\n",
       "    </tr>\n",
       "    <tr>\n",
       "      <th>surfactant</th>\n",
       "      <td>0.127714</td>\n",
       "      <td>0.127714</td>\n",
       "      <td>0.127714</td>\n",
       "      <td>0.127714</td>\n",
       "      <td>0.127714</td>\n",
       "      <td>0.127714</td>\n",
       "      <td>0.127714</td>\n",
       "      <td>0.127714</td>\n",
       "      <td>0.127714</td>\n",
       "      <td>0.127714</td>\n",
       "      <td>0.127714</td>\n",
       "      <td>0.127714</td>\n",
       "      <td>0.127714</td>\n",
       "    </tr>\n",
       "    <tr>\n",
       "      <th>toxin</th>\n",
       "      <td>2.426564</td>\n",
       "      <td>0.255428</td>\n",
       "      <td>2.171137</td>\n",
       "      <td>0.638570</td>\n",
       "      <td>2.298851</td>\n",
       "      <td>0.766284</td>\n",
       "      <td>2.171137</td>\n",
       "      <td>2.043423</td>\n",
       "      <td>2.426564</td>\n",
       "      <td>2.426564</td>\n",
       "      <td>1.021711</td>\n",
       "      <td>0.255428</td>\n",
       "      <td>0.255428</td>\n",
       "    </tr>\n",
       "    <tr>\n",
       "      <th>unknown</th>\n",
       "      <td>5.108557</td>\n",
       "      <td>1.021711</td>\n",
       "      <td>3.831418</td>\n",
       "      <td>1.404853</td>\n",
       "      <td>4.086845</td>\n",
       "      <td>1.149425</td>\n",
       "      <td>4.086845</td>\n",
       "      <td>3.959132</td>\n",
       "      <td>5.108557</td>\n",
       "      <td>4.853129</td>\n",
       "      <td>1.021711</td>\n",
       "      <td>1.021711</td>\n",
       "      <td>0.510856</td>\n",
       "    </tr>\n",
       "  </tbody>\n",
       "</table>\n",
       "</div>"
      ],
      "text/plain": [
       "                   query  accession  query_length  subject_length  \\\n",
       "activity                                                            \n",
       "0               0.766284   0.510856      0.766284        0.510856   \n",
       "NAP            23.243934   8.556833     10.600255       12.899106   \n",
       "aniother        0.510856   0.127714      0.510856        0.255428   \n",
       "antiameobe      0.127714   0.127714      0.127714        0.127714   \n",
       "antimicrobial  25.542784   7.279693     11.366539       13.026820   \n",
       "insecticidal    1.532567   0.510856      1.404853        1.149425   \n",
       "other          23.243934   1.404853     17.752235        2.298851   \n",
       "siderophore     2.171137   0.766284      2.043423        0.766284   \n",
       "surfactant      0.127714   0.127714      0.127714        0.127714   \n",
       "toxin           2.426564   0.255428      2.171137        0.638570   \n",
       "unknown         5.108557   1.021711      3.831418        1.404853   \n",
       "\n",
       "               alignment_length  query_start  query_end   identity       eval  \\\n",
       "activity                                                                        \n",
       "0                      0.766284     0.255428   0.766284   0.766284   0.766284   \n",
       "NAP                   10.472542     2.043423  11.238825  10.983397  22.477650   \n",
       "aniother               0.510856     0.127714   0.510856   0.510856   0.510856   \n",
       "antiameobe             0.127714     0.127714   0.127714   0.127714   0.127714   \n",
       "antimicrobial         11.749681     2.043423  11.749681  12.643678  24.137931   \n",
       "insecticidal           1.532567     0.766284   1.404853   1.404853   1.532567   \n",
       "other                 17.496807     1.404853  17.879949  14.687101  22.733078   \n",
       "siderophore            1.915709     0.383142   1.915709   2.043423   2.171137   \n",
       "surfactant             0.127714     0.127714   0.127714   0.127714   0.127714   \n",
       "toxin                  2.298851     0.766284   2.171137   2.043423   2.426564   \n",
       "unknown                4.086845     1.149425   4.086845   3.959132   5.108557   \n",
       "\n",
       "                bitscore    sample   product  bgc_class  \n",
       "activity                                                 \n",
       "0               0.766284  0.383142  0.510856   0.255428  \n",
       "NAP            17.496807  1.277139  7.790549   0.638570  \n",
       "aniother        0.510856  0.383142  0.127714   0.127714  \n",
       "antiameobe      0.127714  0.127714  0.127714   0.127714  \n",
       "antimicrobial  18.901660  1.277139  7.151980   0.893997  \n",
       "insecticidal    1.532567  0.510856  0.383142   0.255428  \n",
       "other          21.711367  1.277139  1.404853   0.383142  \n",
       "siderophore     2.171137  0.766284  0.766284   0.255428  \n",
       "surfactant      0.127714  0.127714  0.127714   0.127714  \n",
       "toxin           2.426564  1.021711  0.255428   0.255428  \n",
       "unknown         4.853129  1.021711  1.021711   0.510856  "
      ]
     },
     "execution_count": 297,
     "metadata": {},
     "output_type": "execute_result"
    }
   ],
   "source": [
    "soil_fltd.groupby(\"activity\").nunique()/783*100"
   ]
  },
  {
   "cell_type": "code",
   "execution_count": 298,
   "metadata": {},
   "outputs": [],
   "source": [
    "#Add the environment before the concatenation:\n",
    "roots_fltd[\"env\"]=\"roots\"\n",
    "soil_fltd[\"env\"]=\"soil\""
   ]
  },
  {
   "cell_type": "code",
   "execution_count": 299,
   "metadata": {},
   "outputs": [],
   "source": [
    "def create_biom_product(df):\n",
    "    df_grouped=df.groupby([\"sample\",\"product\"]).size().reset_index()\n",
    "    df_grouped.columns=[\"sample\", \"product\", \"hits\"]\n",
    "    biom=df_grouped.set_index(['sample', 'product'])['hits'].unstack().reset_index().fillna(0)\n",
    "    biom.set_index(\"sample\", inplace=True)\n",
    "    biom_binary=biom.apply(lambda x: [0 if y<1 else 1 for y in x])\n",
    "    return biom_binary"
   ]
  },
  {
   "cell_type": "code",
   "execution_count": 300,
   "metadata": {},
   "outputs": [],
   "source": [
    "joined=pd.concat([roots_fltd, soil_fltd])"
   ]
  },
  {
   "cell_type": "code",
   "execution_count": 301,
   "metadata": {},
   "outputs": [],
   "source": [
    "mibig_biom=create_biom_product(joined)"
   ]
  },
  {
   "cell_type": "code",
   "execution_count": 241,
   "metadata": {},
   "outputs": [],
   "source": [
    "mibig_biom.to_csv(\"public_mgs_mibig_biom.csv\")"
   ]
  },
  {
   "cell_type": "markdown",
   "metadata": {},
   "source": [
    "# Calculate common and unique products"
   ]
  },
  {
   "cell_type": "code",
   "execution_count": 302,
   "metadata": {},
   "outputs": [],
   "source": [
    "mibigT=mibig_biom.T\n",
    "mibigT[\"sum\"]=mibigT.sum(axis=1)\n",
    "#give only products that were found in 3 datasets and more:\n",
    "mibigT=mibigT[mibigT[\"sum\"]>2]\n",
    "genes_by_category=genes_binary.groupby(\"env\").sum().T"
   ]
  },
  {
   "cell_type": "code",
   "execution_count": 303,
   "metadata": {},
   "outputs": [],
   "source": [
    "mibigT[\"sum\"]=mibigT.sum(axis=1)"
   ]
  },
  {
   "cell_type": "code",
   "execution_count": 304,
   "metadata": {},
   "outputs": [],
   "source": [
    "#give only products that were found in 3 datasets and more:\n",
    "mibigT=mibigT[mibigT[\"sum\"]>2]"
   ]
  },
  {
   "cell_type": "code",
   "execution_count": 305,
   "metadata": {},
   "outputs": [],
   "source": [
    "mibigT.to_csv(\"mibig_products_table_eval.csv\")"
   ]
  },
  {
   "cell_type": "code",
   "execution_count": 306,
   "metadata": {},
   "outputs": [],
   "source": [
    "#Read it again after I added the category column:\n",
    "genes_binary=pd.read_csv(\"C:/Users/barakd/Desktop/metagenomes/mibig_products_table_eval.csv\")"
   ]
  },
  {
   "cell_type": "code",
   "execution_count": 307,
   "metadata": {},
   "outputs": [],
   "source": [
    "genes_by_category=genes_binary.groupby(\"env\").sum().T"
   ]
  },
  {
   "cell_type": "code",
   "execution_count": 308,
   "metadata": {},
   "outputs": [
    {
     "data": {
      "text/html": [
       "<div>\n",
       "<style scoped>\n",
       "    .dataframe tbody tr th:only-of-type {\n",
       "        vertical-align: middle;\n",
       "    }\n",
       "\n",
       "    .dataframe tbody tr th {\n",
       "        vertical-align: top;\n",
       "    }\n",
       "\n",
       "    .dataframe thead th {\n",
       "        text-align: right;\n",
       "    }\n",
       "</style>\n",
       "<table border=\"1\" class=\"dataframe\">\n",
       "  <thead>\n",
       "    <tr style=\"text-align: right;\">\n",
       "      <th>env</th>\n",
       "      <th>roots</th>\n",
       "      <th>soil</th>\n",
       "    </tr>\n",
       "  </thead>\n",
       "  <tbody>\n",
       "    <tr>\n",
       "      <th>1,3,6,8-tetrahydroxynaphthalene</th>\n",
       "      <td>2</td>\n",
       "      <td>1</td>\n",
       "    </tr>\n",
       "    <tr>\n",
       "      <th>A-74528</th>\n",
       "      <td>2</td>\n",
       "      <td>2</td>\n",
       "    </tr>\n",
       "    <tr>\n",
       "      <th>BE-43547 A1-C2</th>\n",
       "      <td>2</td>\n",
       "      <td>4</td>\n",
       "    </tr>\n",
       "    <tr>\n",
       "      <th>C-1027</th>\n",
       "      <td>1</td>\n",
       "      <td>2</td>\n",
       "    </tr>\n",
       "    <tr>\n",
       "      <th>E-837</th>\n",
       "      <td>3</td>\n",
       "      <td>3</td>\n",
       "    </tr>\n",
       "    <tr>\n",
       "      <th>...</th>\n",
       "      <td>...</td>\n",
       "      <td>...</td>\n",
       "    </tr>\n",
       "    <tr>\n",
       "      <th>tubulysin</th>\n",
       "      <td>1</td>\n",
       "      <td>2</td>\n",
       "    </tr>\n",
       "    <tr>\n",
       "      <th>versipelostatin</th>\n",
       "      <td>4</td>\n",
       "      <td>3</td>\n",
       "    </tr>\n",
       "    <tr>\n",
       "      <th>vicenistatin</th>\n",
       "      <td>0</td>\n",
       "      <td>3</td>\n",
       "    </tr>\n",
       "    <tr>\n",
       "      <th>vicibactin</th>\n",
       "      <td>4</td>\n",
       "      <td>0</td>\n",
       "    </tr>\n",
       "    <tr>\n",
       "      <th>vioprolide</th>\n",
       "      <td>6</td>\n",
       "      <td>6</td>\n",
       "    </tr>\n",
       "  </tbody>\n",
       "</table>\n",
       "<p>113 rows × 2 columns</p>\n",
       "</div>"
      ],
      "text/plain": [
       "env                              roots  soil\n",
       "1,3,6,8-tetrahydroxynaphthalene      2     1\n",
       "A-74528                              2     2\n",
       "BE-43547 A1-C2                       2     4\n",
       "C-1027                               1     2\n",
       "E-837                                3     3\n",
       "...                                ...   ...\n",
       "tubulysin                            1     2\n",
       "versipelostatin                      4     3\n",
       "vicenistatin                         0     3\n",
       "vicibactin                           4     0\n",
       "vioprolide                           6     6\n",
       "\n",
       "[113 rows x 2 columns]"
      ]
     },
     "execution_count": 308,
     "metadata": {},
     "output_type": "execute_result"
    }
   ],
   "source": [
    "genes_by_category"
   ]
  },
  {
   "cell_type": "code",
   "execution_count": 315,
   "metadata": {},
   "outputs": [],
   "source": [
    "over_roots=genes_by_category.loc[(genes_by_category['roots'] >4) & (genes_by_category['soil'] <5)]\n",
    "over_soil=genes_by_category.loc[(genes_by_category['roots'] <5) & (genes_by_category['soil'] >4)]\n",
    "over_roots.to_csv(\"over_roots_products_eval.csv\")\n",
    "over_soil.to_csv(\"over_soil_products_eval.csv\")"
   ]
  }
 ],
 "metadata": {
  "kernelspec": {
   "display_name": "Python 3",
   "language": "python",
   "name": "python3"
  },
  "language_info": {
   "codemirror_mode": {
    "name": "ipython",
    "version": 3
   },
   "file_extension": ".py",
   "mimetype": "text/x-python",
   "name": "python",
   "nbconvert_exporter": "python",
   "pygments_lexer": "ipython3",
   "version": "3.8.5"
  }
 },
 "nbformat": 4,
 "nbformat_minor": 2
}
